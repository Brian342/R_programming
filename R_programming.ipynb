{
 "cells": [
  {
   "cell_type": "markdown",
   "metadata": {
    "colab_type": "text",
    "id": "view-in-github"
   },
   "source": [
    "<a href=\"https://colab.research.google.com/github/Brian342/R_programming/blob/main/R_programming.ipynb\" target=\"_parent\"><img src=\"https://colab.research.google.com/assets/colab-badge.svg\" alt=\"Open In Colab\"/></a>"
   ]
  },
  {
   "cell_type": "code",
   "execution_count": null,
   "metadata": {
    "colab": {
     "base_uri": "https://localhost:8080/"
    },
    "id": "dFmsSFHvpEVM",
    "outputId": "363f8568-ea0d-426d-e789-3124185ad08a"
   },
   "outputs": [],
   "source": [
    "install.packages(\"tidyverse\")\n",
    "library(tidyverse)"
   ]
  },
  {
   "cell_type": "code",
   "execution_count": null,
   "metadata": {
    "colab": {
     "base_uri": "https://localhost:8080/",
     "height": 1000
    },
    "id": "M95FzSZuq5cJ",
    "outputId": "51d99e50-6a34-4fd8-c2c7-a213ead495c2"
   },
   "outputs": [],
   "source": [
    "mpg"
   ]
  },
  {
   "cell_type": "code",
   "execution_count": null,
   "metadata": {
    "colab": {
     "base_uri": "https://localhost:8080/",
     "height": 437
    },
    "id": "RlD3e1i3qIie",
    "outputId": "5f2110d9-3c8c-42ec-8200-d22e46b7305c"
   },
   "outputs": [],
   "source": [
    "ggplot(data=mpg) +\n",
    "  geom_point(mapping = aes(x = displ, y = hwy))\n"
   ]
  },
  {
   "cell_type": "code",
   "execution_count": null,
   "metadata": {
    "colab": {
     "base_uri": "https://localhost:8080/",
     "height": 437
    },
    "id": "dOkxcyNMr91W",
    "outputId": "d269d3fd-8ee8-46f3-fe91-11474a4a7193"
   },
   "outputs": [],
   "source": [
    " ggplot(data = mpg) +\n",
    "   geom_point(mapping = aes(x = cyl, y = hwy))"
   ]
  },
  {
   "cell_type": "code",
   "execution_count": null,
   "metadata": {
    "colab": {
     "base_uri": "https://localhost:8080/",
     "height": 437
    },
    "id": "VfXDpsp5wmsC",
    "outputId": "d31ece03-c382-452a-b5b0-0e36ee35215e"
   },
   "outputs": [],
   "source": [
    "ggplot(data = mpg)+\n",
    "  geom_point(mapping = aes(x = displ, y = hwy, color = class))"
   ]
  },
  {
   "cell_type": "code",
   "execution_count": null,
   "metadata": {
    "colab": {
     "base_uri": "https://localhost:8080/",
     "height": 473
    },
    "id": "0dsJyfem8Pra",
    "outputId": "477d7d87-1584-4864-c1b5-15bd4e27e393"
   },
   "outputs": [],
   "source": [
    "ggplot(data = mpg) +\n",
    "  geom_point(mapping = aes(x = displ, y = hwy, size = class))"
   ]
  },
  {
   "cell_type": "code",
   "execution_count": null,
   "metadata": {
    "colab": {
     "base_uri": "https://localhost:8080/",
     "height": 473
    },
    "id": "l3m4Tahh81_V",
    "outputId": "1834fdd2-3cbf-4835-c963-e5dde6ca38ff"
   },
   "outputs": [],
   "source": [
    "# top\n",
    "ggplot(data = mpg) +\n",
    "  geom_point(mapping = aes(x = displ, y = hwy, alpha = class))"
   ]
  },
  {
   "cell_type": "code",
   "execution_count": null,
   "metadata": {
    "colab": {
     "base_uri": "https://localhost:8080/",
     "height": 580
    },
    "id": "88bcLTG19buS",
    "outputId": "8c915686-d5ae-4d48-d5f4-1e589a221fca"
   },
   "outputs": [],
   "source": [
    "# bottom\n",
    "ggplot(data = mpg) +\n",
    "  geom_point(mapping = aes(x = displ, y = hwy, shape = class))"
   ]
  },
  {
   "cell_type": "code",
   "execution_count": null,
   "metadata": {
    "colab": {
     "base_uri": "https://localhost:8080/",
     "height": 437
    },
    "id": "prQhm_VP9vaa",
    "outputId": "bd346332-a984-438c-93cf-a3fefde0ac62"
   },
   "outputs": [],
   "source": [
    "# making all the points on the chart colour blue\n",
    "ggplot(data = mpg) +\n",
    "  geom_point(mapping = aes(x = displ, y = hwy), colour = 'blue')"
   ]
  },
  {
   "cell_type": "code",
   "execution_count": null,
   "metadata": {
    "id": "0m_DYbNX-z_p"
   },
   "outputs": [],
   "source": [
    "?mpg # returns a details infomation about the dataset"
   ]
  },
  {
   "cell_type": "code",
   "execution_count": null,
   "metadata": {
    "colab": {
     "base_uri": "https://localhost:8080/",
     "height": 437
    },
    "id": "gXSaBmuI_vzA",
    "outputId": "f48979e5-5344-4ad2-eeb5-9dd7d772bd6f"
   },
   "outputs": [],
   "source": [
    "ggplot(data = mpg) +\n",
    "  geom_point(mapping = aes(x = displ, y = hwy)) +\n",
    "  facet_wrap(~ class, nrow = 2)"
   ]
  },
  {
   "cell_type": "code",
   "execution_count": null,
   "metadata": {
    "colab": {
     "base_uri": "https://localhost:8080/",
     "height": 437
    },
    "id": "J8tQGVPxDR15",
    "outputId": "4667d93d-5962-47c1-b078-63e6d9777a9f"
   },
   "outputs": [],
   "source": [
    "ggplot(data = mpg) +\n",
    "  geom_point(mapping = aes(x = displ, y = hwy)) +\n",
    "  facet_grid(drv ~ cyl)"
   ]
  },
  {
   "cell_type": "markdown",
   "metadata": {
    "id": "ePINaL-QD6jg"
   },
   "source": [
    "# *Geometric Objects*"
   ]
  },
  {
   "cell_type": "code",
   "execution_count": null,
   "metadata": {
    "id": "-uilUoJuDygj"
   },
   "outputs": [],
   "source": []
  }
 ],
 "metadata": {
  "colab": {
   "authorship_tag": "ABX9TyPc3c8ftWdsYhHLMzu9j+Ye",
   "include_colab_link": true,
   "provenance": []
  },
  "kernelspec": {
   "display_name": "R",
   "language": "R",
   "name": "ir"
  },
  "language_info": {
   "codemirror_mode": "r",
   "file_extension": ".r",
   "mimetype": "text/x-r-source",
   "name": "R",
   "pygments_lexer": "r",
   "version": "4.4.1"
  }
 },
 "nbformat": 4,
 "nbformat_minor": 4
}
